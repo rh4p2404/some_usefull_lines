{
 "cells": [
  {
   "cell_type": "code",
   "execution_count": 2,
   "metadata": {},
   "outputs": [
    {
     "data": {
      "text/plain": [
       "5992.5"
      ]
     },
     "execution_count": 2,
     "metadata": {},
     "output_type": "execute_result"
    }
   ],
   "source": [
    "7990*0.75"
   ]
  },
  {
   "cell_type": "code",
   "execution_count": 4,
   "metadata": {},
   "outputs": [
    {
     "name": "stdout",
     "output_type": "stream",
     "text": [
      "70 A444EE\n",
      "80 E122ER\n",
      "1000 A555AA\n",
      "1000\n"
     ]
    }
   ],
   "source": [
    "def is_chief_detected(num):\n",
    "    return num == \"A555AA\"\n",
    "\n",
    "\n",
    "def calculate_fine(num):\n",
    "    fine = 0\n",
    "    if is_super_number(num):\n",
    "        fine = 1000\n",
    "    if is_good_number(num):\n",
    "        fine = 500\n",
    "    else:\n",
    "        fine = 100\n",
    "    return fine\n",
    "\n",
    "\n",
    "def is_super_number(num):\n",
    "    return num[1] == num[2] == num[3]\n",
    "\n",
    "\n",
    "def is_good_number(num):\n",
    "    return num[1] == num[2] or num[2] == num[3] or num[3] == num[1]\n",
    "\n",
    "\n",
    "if __name__ == \"__main__\":\n",
    "    fine_sum = 0  # money\n",
    "    v, num = input().split()  # car speed and registration number\n",
    "    v = int(v)\n",
    "    while not is_chief_detected(num):\n",
    "        if v > 60:\n",
    "            fine_sum += calculate_fine(num)\n",
    "        v, num = input().split()\n",
    "        v = int(v)\n",
    "    print(fine_sum)"
   ]
  },
  {
   "cell_type": "code",
   "execution_count": 6,
   "metadata": {},
   "outputs": [],
   "source": [
    "a=[a*a for a in range(100) if a % 2 == 0]\n"
   ]
  },
  {
   "cell_type": "code",
   "execution_count": 7,
   "metadata": {},
   "outputs": [
    {
     "data": {
      "text/plain": [
       "[0,\n",
       " 4,\n",
       " 16,\n",
       " 36,\n",
       " 64,\n",
       " 100,\n",
       " 144,\n",
       " 196,\n",
       " 256,\n",
       " 324,\n",
       " 400,\n",
       " 484,\n",
       " 576,\n",
       " 676,\n",
       " 784,\n",
       " 900,\n",
       " 1024,\n",
       " 1156,\n",
       " 1296,\n",
       " 1444,\n",
       " 1600,\n",
       " 1764,\n",
       " 1936,\n",
       " 2116,\n",
       " 2304,\n",
       " 2500,\n",
       " 2704,\n",
       " 2916,\n",
       " 3136,\n",
       " 3364,\n",
       " 3600,\n",
       " 3844,\n",
       " 4096,\n",
       " 4356,\n",
       " 4624,\n",
       " 4900,\n",
       " 5184,\n",
       " 5476,\n",
       " 5776,\n",
       " 6084,\n",
       " 6400,\n",
       " 6724,\n",
       " 7056,\n",
       " 7396,\n",
       " 7744,\n",
       " 8100,\n",
       " 8464,\n",
       " 8836,\n",
       " 9216,\n",
       " 9604]"
      ]
     },
     "execution_count": 7,
     "metadata": {},
     "output_type": "execute_result"
    }
   ],
   "source": [
    "a\n"
   ]
  },
  {
   "cell_type": "code",
   "execution_count": null,
   "metadata": {
    "collapsed": true
   },
   "outputs": [],
   "source": []
  }
 ],
 "metadata": {
  "kernelspec": {
   "display_name": "Python 3",
   "language": "python",
   "name": "python3"
  },
  "language_info": {
   "codemirror_mode": {
    "name": "ipython",
    "version": 3
   },
   "file_extension": ".py",
   "mimetype": "text/x-python",
   "name": "python",
   "nbconvert_exporter": "python",
   "pygments_lexer": "ipython3",
   "version": "3.6.1"
  }
 },
 "nbformat": 4,
 "nbformat_minor": 2
}
