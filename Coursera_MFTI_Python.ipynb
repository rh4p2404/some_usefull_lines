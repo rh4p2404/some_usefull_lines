{
 "cells": [
  {
   "cell_type": "code",
   "execution_count": 14,
   "metadata": {
    "collapsed": true
   },
   "outputs": [],
   "source": [
    "import functools\n",
    "def logger(func):\n",
    "    @functools.wraps(func)\n",
    "    def wrapper(*args,**kwargs):\n",
    "        with open(r\"C:\\Distribs\\decaratorlog.txt\",\"w\") as f:\n",
    "            f.write(func(*args,**kwargs))\n",
    "        \n",
    "    return wrapper \n",
    "@logger\n",
    "def summator(l):\n",
    "    return str(sum(l))\n",
    "@logger\n",
    "def informationer(l):\n",
    "    return f\"INFO: {sum(l)}\"\n"
   ]
  },
  {
   "cell_type": "code",
   "execution_count": 15,
   "metadata": {
    "collapsed": true
   },
   "outputs": [],
   "source": [
    "summator(range(10))"
   ]
  },
  {
   "cell_type": "code",
   "execution_count": 16,
   "metadata": {
    "collapsed": true
   },
   "outputs": [],
   "source": [
    "informationer(range(10))"
   ]
  },
  {
   "cell_type": "code",
   "execution_count": 25,
   "metadata": {
    "collapsed": true
   },
   "outputs": [],
   "source": [
    "import functools\n",
    "def logger(filename):\n",
    "    def decorator(func):\n",
    "        def wrapper(*args,**kwargs):\n",
    "            with open(filename,\"w\") as f:\n",
    "                f.write(func(*args,**kwargs))\n",
    "            return None    \n",
    "        return wrapper\n",
    "    return decorator\n",
    "@logger(r\"C:\\Distribs\\decaratorlog2.txt\")\n",
    "def summator(l):\n",
    "    return str(sum(l))\n",
    "@logger(r\"C:\\Distribs\\decaratorlog.txt\")\n",
    "def informationer(l):\n",
    "    return f\"INFO: {sum(l)}\""
   ]
  },
  {
   "cell_type": "code",
   "execution_count": 26,
   "metadata": {
    "collapsed": true
   },
   "outputs": [],
   "source": [
    "summator(range(10))\n",
    "informationer(range(10))"
   ]
  },
  {
   "cell_type": "code",
   "execution_count": 54,
   "metadata": {
    "collapsed": true
   },
   "outputs": [],
   "source": [
    "def even_range(start, end):\n",
    "    current = start\n",
    "    while current <= end+1:\n",
    "        yield current\n",
    "        print('After yielding {}'.format(current))\n",
    "        current += 2\n",
    "        print('After cuur++ {}'.format(current))\n",
    "        "
   ]
  },
  {
   "cell_type": "code",
   "execution_count": 55,
   "metadata": {
    "collapsed": true
   },
   "outputs": [],
   "source": [
    "er=even_range(1,10)"
   ]
  },
  {
   "cell_type": "code",
   "execution_count": 61,
   "metadata": {},
   "outputs": [
    {
     "name": "stdout",
     "output_type": "stream",
     "text": [
      "After yielding 9\n",
      "After cuur++ 11\n"
     ]
    },
    {
     "data": {
      "text/plain": [
       "11"
      ]
     },
     "execution_count": 61,
     "metadata": {},
     "output_type": "execute_result"
    }
   ],
   "source": [
    "next(er)"
   ]
  },
  {
   "cell_type": "code",
   "execution_count": 70,
   "metadata": {
    "collapsed": true
   },
   "outputs": [],
   "source": [
    "class Planet:\n",
    "    count = 0\n",
    "    def __init__(self,name,population=None):\n",
    "        self.name=name\n",
    "        self.population=population or []\n",
    "        Planet.count +=1\n",
    "    @classmethod\n",
    "    def print_planet(cls,name):\n",
    "        print(f\"Planet {name} was created\")\n",
    "        return cls(name)\n",
    "    "
   ]
  },
  {
   "cell_type": "code",
   "execution_count": 64,
   "metadata": {},
   "outputs": [
    {
     "data": {
      "text/plain": [
       "2"
      ]
     },
     "execution_count": 64,
     "metadata": {},
     "output_type": "execute_result"
    }
   ],
   "source": [
    "e = Planet(\"Earth\")\n",
    "m=Planet(\"Mars\")\n",
    "e.count"
   ]
  },
  {
   "cell_type": "code",
   "execution_count": 67,
   "metadata": {},
   "outputs": [
    {
     "data": {
      "text/plain": [
       "3"
      ]
     },
     "execution_count": 67,
     "metadata": {},
     "output_type": "execute_result"
    }
   ],
   "source": [
    "m.count\n"
   ]
  },
  {
   "cell_type": "code",
   "execution_count": 66,
   "metadata": {
    "collapsed": true
   },
   "outputs": [],
   "source": [
    "v=Planet(\"Venus\")\n"
   ]
  },
  {
   "cell_type": "code",
   "execution_count": 68,
   "metadata": {},
   "outputs": [
    {
     "data": {
      "text/plain": [
       "3"
      ]
     },
     "execution_count": 68,
     "metadata": {},
     "output_type": "execute_result"
    }
   ],
   "source": [
    "v.count"
   ]
  },
  {
   "cell_type": "code",
   "execution_count": 71,
   "metadata": {},
   "outputs": [
    {
     "name": "stdout",
     "output_type": "stream",
     "text": [
      "Planet Mercury was created\n"
     ]
    }
   ],
   "source": [
    "merc=Planet.print_planet(\"Mercury\")"
   ]
  },
  {
   "cell_type": "code",
   "execution_count": 72,
   "metadata": {},
   "outputs": [
    {
     "data": {
      "text/plain": [
       "[]"
      ]
     },
     "execution_count": 72,
     "metadata": {},
     "output_type": "execute_result"
    }
   ],
   "source": [
    "merc.name\n",
    "merc.population"
   ]
  },
  {
   "cell_type": "code",
   "execution_count": 81,
   "metadata": {},
   "outputs": [
    {
     "name": "stdout",
     "output_type": "stream",
     "text": [
      "This class is about pet animals!\n",
      "This class is about pet animals!\n",
      "This class is about pet animals!\n"
     ]
    }
   ],
   "source": [
    "class Pet:\n",
    "    _class_info = \"pet animals\"\n",
    "\n",
    "    @staticmethod\n",
    "    def about():\n",
    "        print(\"This class is about \" + Pet._class_info + \"!\")   \n",
    "    \n",
    "\n",
    "class Dog(Pet):\n",
    "    _class_info = \"man's best friends\"\n",
    "\n",
    "class Cat(Pet):\n",
    "    _class_info = \"all kinds of cats\"\n",
    "\n",
    "Pet.about()\n",
    "Dog.about()\n",
    "Cat.about()"
   ]
  },
  {
   "cell_type": "code",
   "execution_count": 82,
   "metadata": {},
   "outputs": [
    {
     "name": "stdout",
     "output_type": "stream",
     "text": [
      "This class is about pet animals!\n"
     ]
    }
   ],
   "source": [
    "p=Cat()\n",
    "p.about()"
   ]
  },
  {
   "cell_type": "code",
   "execution_count": 84,
   "metadata": {},
   "outputs": [
    {
     "data": {
      "text/plain": [
       "30.416666666666668"
      ]
     },
     "execution_count": 84,
     "metadata": {},
     "output_type": "execute_result"
    }
   ],
   "source": [
    "365*2/24"
   ]
  },
  {
   "cell_type": "code",
   "execution_count": 86,
   "metadata": {
    "collapsed": true
   },
   "outputs": [
    {
     "ename": "ModuleNotFoundError",
     "evalue": "No module named 'tqdm'",
     "output_type": "error",
     "traceback": [
      "\u001b[1;31m---------------------------------------------------------------------------\u001b[0m",
      "\u001b[1;31mModuleNotFoundError\u001b[0m                       Traceback (most recent call last)",
      "\u001b[1;32m<ipython-input-86-b8e397ce03c8>\u001b[0m in \u001b[0;36m<module>\u001b[1;34m()\u001b[0m\n\u001b[1;32m----> 1\u001b[1;33m \u001b[1;32mimport\u001b[0m \u001b[0mtqdm\u001b[0m\u001b[1;33m\u001b[0m\u001b[0m\n\u001b[0m",
      "\u001b[1;31mModuleNotFoundError\u001b[0m: No module named 'tqdm'"
     ]
    }
   ],
   "source": []
  },
  {
   "cell_type": "code",
   "execution_count": 5,
   "metadata": {
    "collapsed": true
   },
   "outputs": [],
   "source": [
    "import os\n",
    "os.environ['HTTP_PROXY'] = \"bda41node01:3128\" \n",
    "os.environ['HTTP_PROXYS'] = \"bda41node01:3128\" \n",
    "import ssl\n",
    "ssl._create_default_https_context = ssl._create_unverified_context"
   ]
  },
  {
   "cell_type": "code",
   "execution_count": 14,
   "metadata": {
    "scrolled": false
   },
   "outputs": [],
   "source": [
    "import requests\n",
    "response = requests.get(\"http://www.yandex.ru\")"
   ]
  },
  {
   "cell_type": "code",
   "execution_count": 15,
   "metadata": {
    "collapsed": true
   },
   "outputs": [
    {
     "data": {
      "text/plain": [
       "{'Accept-CH': 'Viewport-Width, DPR, Device-Memory, RTT, Downlink, ECT', 'Accept-CH-Lifetime': '31536000', 'Cache-Control': 'no-cache,no-store,max-age=0,must-revalidate', 'Content-Encoding': 'gzip', 'Content-Security-Policy': \"img-src https://*.verify.yandex.ru https://favicon.yandex.net https://auto.ru https://thequestion.ru 'self' https://www.kinopoisk.ru https://leonardo.edadeal.io https://yabs.yandex.ru https://an.yandex.ru https://*.strm.yandex.net https://mc.admetrica.ru https://avatars.mds.yandex.net data: https://yastatic.net https://yandex.ru https://strm.yandex.ru https://www.maximonline.ru https://awaps.yandex.net https://mc.yandex.ru https://bs.serving-sys.com https://resize.yandex.net;object-src https://avatars.mds.yandex.net;default-src https://yastatic.net https://yastat.net;media-src https://*.strm.yandex.net https://*.cdn.ngenix.net;font-src data: https://an.yandex.ru https://yastatic.net;frame-src https://st.yandexadexchange.net https://yandexadexchange.net https://yastatic.net https://yandex.ru 'self' https://awaps.yandex.net https://mc.yandex.ru;script-src https://an.yandex.ru https://mc.yandex.ru 'self' 'unsafe-inline' https://yastatic.net https://yandex.ru;report-uri https://csp.yandex.net/csp?project=morda&from=morda.big.ru&showid=1584102051.4856.140225.201405&h=sas1-3190-a93-sas-portal-morda-17154&csp=new&date=20200313&yandexuid=3180467741584102051;connect-src https://games.yandex.ru https://auto.ru https://zen.yandex.ru https://yastat.net https://mobile.yandex.net 'self' https://thequestion.ru wss://portal-xiva.yandex.net https://*.cdn.ngenix.net https://www.kinopoisk.ru https://mc.admetrica.ru https://an.yandex.ru https://*.strm.yandex.net https://www.maximonline.ru https://strm.yandex.ru https://yandex.ru https://yastatic.net https://api.market.yandex.ru https://portal-xiva.yandex.net https://mc.yandex.ru https://frontend.vh.yandex.ru;style-src 'unsafe-inline' https://yastatic.net\", 'Content-Type': 'text/html; charset=UTF-8', 'Date': 'Fri, 13 Mar 2020 12:20:51 GMT', 'Expires': 'Fri, 13 Mar 2020 12:20:51 GMT', 'Last-Modified': 'Fri, 13 Mar 2020 12:20:51 GMT', 'P3P': 'policyref=\"/w3c/p3p.xml\", CP=\"NON DSP ADM DEV PSD IVDo OUR IND STP PHY PRE NAV UNI\"', 'Set-Cookie': 'yp=1586694051.ygu.1; Expires=Mon, 11-Mar-2030 12:20:51 GMT; Domain=.yandex.ru; Path=/, mda=0; Expires=Sat, 11-Jul-2020 12:20:51 GMT; Domain=.yandex.ru; Path=/, yandex_gid=213; Expires=Sun, 12-Apr-2020 12:20:51 GMT; Domain=.yandex.ru; Path=/, i=egIxtEGiH0P6IQUWRGMjU0dEpDK8O4/hAnE23QAR00ni3RFQZjymH9CYetcdYMkeiwyXxzNAwhL4/Yc2dLEquEjmCPw=; Expires=Mon, 11-Mar-2030 12:20:51 GMT; Domain=.yandex.ru; Path=/; Secure; HttpOnly', 'Transfer-Encoding': 'chunked', 'X-Content-Type-Options': 'nosniff', 'X-Frame-Options': 'DENY', 'X-Yandex-Sdch-Disable': '1'}"
      ]
     },
     "execution_count": 15,
     "metadata": {},
     "output_type": "execute_result"
    }
   ],
   "source": [
    "response.headers"
   ]
  },
  {
   "cell_type": "code",
   "execution_count": 23,
   "metadata": {},
   "outputs": [],
   "source": [
    "from multiprocessing import Process\n",
    "import time\n",
    "def f_to_proc(a):\n",
    "    print(f\"{a} from multiproc\")\n",
    "    time.sleep(10)\n",
    "p=Process(target=f_to_proc,args=(\"ФУНКЦИЯ!!\",))\n",
    "p.start()\n",
    "p.join()\n",
    "\n"
   ]
  },
  {
   "cell_type": "code",
   "execution_count": null,
   "metadata": {
    "collapsed": true
   },
   "outputs": [],
   "source": []
  }
 ],
 "metadata": {
  "kernelspec": {
   "display_name": "Python 3",
   "language": "python",
   "name": "python3"
  },
  "language_info": {
   "codemirror_mode": {
    "name": "ipython",
    "version": 3
   },
   "file_extension": ".py",
   "mimetype": "text/x-python",
   "name": "python",
   "nbconvert_exporter": "python",
   "pygments_lexer": "ipython3",
   "version": "3.6.1"
  }
 },
 "nbformat": 4,
 "nbformat_minor": 2
}
